{
 "cells": [
  {
   "cell_type": "markdown",
   "id": "f65b673d",
   "metadata": {},
   "source": [
    "# Kaggle Project"
   ]
  },
  {
   "cell_type": "markdown",
   "id": "8f01a265",
   "metadata": {},
   "source": [
    "## Describe Your Dataset"
   ]
  },
  {
   "cell_type": "markdown",
   "id": "a4f2c779",
   "metadata": {},
   "source": [
    "**URL:** https://www.kaggle.com/datasets/samuelcortinhas/muffin-vs-chihuahua-image-classification?select=test"
   ]
  },
  {
   "cell_type": "markdown",
   "id": "2ee95bd2",
   "metadata": {},
   "source": [
    "**Task:**\n",
    "\n",
    "The task of this dataset is to classify the images into the class 'Chihuahua' and 'muffin'. \n",
    "The dataset has 5917 files which are divided into 4 directories.\n",
    "1. test/chihuahua: 640 files. \n",
    "2. test/muffin: 544 files.\n",
    "3. train/chihuahua: 2559 files. \n",
    "4. train/muffin: 2174 files."
   ]
  },
  {
   "cell_type": "markdown",
   "id": "925b65df",
   "metadata": {},
   "source": [
    "**Datasets**\n",
    "\n",
    "* Train dataset: I used the 'train' directory to train the model. 3733 images.\n",
    "\n",
    "* Validation dataset: I chose 1000 files randomly from 'test' directory.\n",
    "\n",
    "* Test dataset: I chose 1184 files randomly from 'test' directory."
   ]
  },
  {
   "cell_type": "markdown",
   "id": "c156dcd3",
   "metadata": {},
   "source": [
    "**Models used in Midterm project and its performance**\n",
    "1. SVC: 69%\n",
    "2. CNN: 91% (val_accuracy 기준)"
   ]
  },
  {
   "cell_type": "markdown",
   "id": "9060259a",
   "metadata": {},
   "source": [
    "**Some strategies to improve model performance**\n",
    "1. Data preprocessing\n",
    "    1. Standard Scaler: 데이터를 평균이 0이고 분산이 1인 데이터로 변환\n",
    "    2. Minmax Scaler: 데이터를 [0.1]사이의 데이터로 변환\n",
    "    3. Data Augmentation: 데이터 증폭\n",
    "2. Optimizers\n",
    "    1. Momentum\n",
    "    2. AdaGrad\n",
    "    3. RMSProp\n",
    "    4. Adam\n",
    "3. Advanced Techniques\n",
    "    1. Weight Initialization\n",
    "    2. Bias Initialization\n",
    "    3. Weight Reularization\n",
    "    4. Batch Normalization\n",
    "    5. Dropout\n",
    "    6. Transfer learning"
   ]
  },
  {
   "cell_type": "markdown",
   "id": "1ae6b11a",
   "metadata": {},
   "source": [
    "**Models used in this project**\n",
    "1. CNN \n",
    "- The aim of this project is to improve the performance. It is well known that CNN has better performance than MLP in image processing.\n",
    "- In the midterm project, the developer tried to improve the performance with changing optimizer. dropout and batchnormalization.\n",
    "- Then, I tried to weight initialization to reach the aim.\n",
    "\n",
    "2. Transfer learning(Freezing-Feature extractor)\n",
    "- The train dataset I used is not that big so I tried freezing not fine-tuning.\n",
    "- The pretrained model I chose is VGG, Alexnet, and Resnet.\n",
    "- Every models will be trained and tested with optimizers: ADAM.\n",
    "    - Tried to used various optimizers but due to the specification issue, I had to chose one.\n",
    "    - ADAM is a method that combined Adagrad + Momentum\n",
    "    - The developer of midterm project revealed that ADAM is better than SGD in this dataset."
   ]
  },
  {
   "cell_type": "markdown",
   "id": "efd627a2",
   "metadata": {},
   "source": [
    "**Features(x):**\n",
    "\n",
    "As they are images, the input features can be differ from models.\n",
    "First of all, as the task is to classify chihuahua and muffin, I used classification models: CNN, VGG, Alexnet, and Resnet.\n",
    "1. CNN: The spacial information is reflected in features. It will not converted in linear form in the convolutional layer.\n",
    "2. VGG, Alexnet, Resnet: features will be extracted from pretrained model.\n",
    "..."
   ]
  },
  {
   "cell_type": "markdown",
   "id": "07cad80b",
   "metadata": {},
   "source": [
    "**Target(y):**\n",
    "\n",
    "Target is to find out in which class the input image is.\n",
    "1. Chihuahua\n",
    "2. Muffin\n",
    "\n",
    "..."
   ]
  },
  {
   "cell_type": "markdown",
   "id": "f6df73f8",
   "metadata": {},
   "source": [
    "---"
   ]
  },
  {
   "cell_type": "markdown",
   "id": "a3ccb4a7",
   "metadata": {},
   "source": [
    "## Build Your Model"
   ]
  },
  {
   "cell_type": "markdown",
   "id": "575c8d37",
   "metadata": {},
   "source": [
    "### Data preprocessing"
   ]
  },
  {
   "cell_type": "code",
   "execution_count": 13,
   "id": "486febaa",
   "metadata": {
    "scrolled": true
   },
   "outputs": [
    {
     "name": "stdout",
     "output_type": "stream",
     "text": [
      "Requirement already satisfied: kaggle in c:\\users\\ah\\miniconda3\\lib\\site-packages (1.5.16)\n",
      "Requirement already satisfied: six>=1.10 in c:\\users\\ah\\miniconda3\\lib\\site-packages (from kaggle) (1.16.0)\n",
      "Requirement already satisfied: requests in c:\\users\\ah\\miniconda3\\lib\\site-packages (from kaggle) (2.27.1)\n",
      "Requirement already satisfied: urllib3 in c:\\users\\ah\\miniconda3\\lib\\site-packages (from kaggle) (1.26.8)\n",
      "Requirement already satisfied: bleach in c:\\users\\ah\\miniconda3\\lib\\site-packages (from kaggle) (4.1.0)\n",
      "Requirement already satisfied: python-slugify in c:\\users\\ah\\miniconda3\\lib\\site-packages (from kaggle) (8.0.1)\n",
      "Requirement already satisfied: certifi in c:\\users\\ah\\miniconda3\\lib\\site-packages (from kaggle) (2023.7.22)\n",
      "Requirement already satisfied: python-dateutil in c:\\users\\ah\\miniconda3\\lib\\site-packages (from kaggle) (2.8.2)\n",
      "Requirement already satisfied: tqdm in c:\\users\\ah\\miniconda3\\lib\\site-packages (from kaggle) (4.63.0)\n",
      "Requirement already satisfied: packaging in c:\\users\\ah\\miniconda3\\lib\\site-packages (from bleach->kaggle) (21.3)\n",
      "Requirement already satisfied: webencodings in c:\\users\\ah\\miniconda3\\lib\\site-packages (from bleach->kaggle) (0.5.1)\n",
      "Requirement already satisfied: pyparsing!=3.0.5,>=2.0.2 in c:\\users\\ah\\miniconda3\\lib\\site-packages (from packaging->bleach->kaggle) (3.0.4)\n",
      "Requirement already satisfied: text-unidecode>=1.3 in c:\\users\\ah\\miniconda3\\lib\\site-packages (from python-slugify->kaggle) (1.3)\n",
      "Requirement already satisfied: idna<4,>=2.5 in c:\\users\\ah\\miniconda3\\lib\\site-packages (from requests->kaggle) (3.3)\n",
      "Requirement already satisfied: charset-normalizer~=2.0.0 in c:\\users\\ah\\miniconda3\\lib\\site-packages (from requests->kaggle) (2.0.4)\n",
      "Requirement already satisfied: colorama in c:\\users\\ah\\appdata\\roaming\\python\\python39\\site-packages (from tqdm->kaggle) (0.4.4)\n",
      "Downloading muffin-vs-chihuahua-image-classification.zip to D:\\Downloads\n",
      "\n"
     ]
    },
    {
     "name": "stderr",
     "output_type": "stream",
     "text": [
      "\n",
      "  0%|          | 0.00/474M [00:00<?, ?B/s]\n",
      "  0%|          | 1.00M/474M [00:00<05:12, 1.59MB/s]\n",
      "  0%|          | 2.00M/474M [00:00<02:39, 3.11MB/s]\n",
      "  1%|          | 3.00M/474M [00:00<02:01, 4.06MB/s]\n",
      "  1%|          | 4.00M/474M [00:01<01:35, 5.15MB/s]\n",
      "  1%|1         | 5.00M/474M [00:01<01:25, 5.77MB/s]\n",
      "  1%|1         | 6.00M/474M [00:01<01:19, 6.19MB/s]\n",
      "  1%|1         | 7.00M/474M [00:01<01:14, 6.54MB/s]\n",
      "  2%|1         | 8.00M/474M [00:01<01:12, 6.77MB/s]\n",
      "  2%|1         | 9.00M/474M [00:01<01:12, 6.71MB/s]\n",
      "  2%|2         | 10.0M/474M [00:01<01:11, 6.77MB/s]\n",
      "  2%|2         | 11.0M/474M [00:02<01:09, 6.96MB/s]\n",
      "  3%|2         | 12.0M/474M [00:02<01:08, 7.08MB/s]\n",
      "  3%|2         | 13.0M/474M [00:02<01:07, 7.18MB/s]\n",
      "  3%|2         | 14.0M/474M [00:02<01:06, 7.26MB/s]\n",
      "  3%|3         | 15.0M/474M [00:02<01:05, 7.31MB/s]\n",
      "  3%|3         | 16.0M/474M [00:02<01:05, 7.35MB/s]\n",
      "  4%|3         | 17.0M/474M [00:02<01:04, 7.37MB/s]\n",
      "  4%|3         | 18.0M/474M [00:03<01:04, 7.39MB/s]\n",
      "  4%|4         | 19.0M/474M [00:03<01:00, 7.87MB/s]\n",
      "  4%|4         | 21.0M/474M [00:03<00:51, 9.31MB/s]\n",
      "  5%|4         | 23.0M/474M [00:03<00:50, 9.38MB/s]\n",
      "  5%|5         | 25.0M/474M [00:03<00:45, 10.3MB/s]\n",
      "  5%|5         | 26.0M/474M [00:03<00:46, 10.2MB/s]\n",
      "  6%|5         | 27.0M/474M [00:03<00:46, 10.1MB/s]\n",
      "  6%|5         | 28.0M/474M [00:04<00:46, 9.98MB/s]\n",
      "  6%|6         | 29.0M/474M [00:04<00:47, 9.91MB/s]\n",
      "  6%|6         | 30.0M/474M [00:04<00:47, 9.85MB/s]\n",
      "  7%|6         | 31.0M/474M [00:04<00:47, 9.80MB/s]\n",
      "  7%|6         | 32.0M/474M [00:04<00:47, 9.75MB/s]\n",
      "  7%|6         | 33.0M/474M [00:04<00:47, 9.75MB/s]\n",
      "  7%|7         | 34.0M/474M [00:04<00:47, 9.73MB/s]\n",
      "  7%|7         | 35.0M/474M [00:04<00:47, 9.70MB/s]\n",
      "  8%|7         | 36.0M/474M [00:04<00:47, 9.72MB/s]\n",
      "  8%|7         | 37.0M/474M [00:05<00:47, 9.71MB/s]\n",
      "  8%|8         | 38.0M/474M [00:05<00:47, 9.71MB/s]\n",
      "  8%|8         | 39.0M/474M [00:05<00:47, 9.70MB/s]\n",
      "  8%|8         | 40.0M/474M [00:05<00:46, 9.70MB/s]\n",
      "  9%|8         | 41.0M/474M [00:05<00:46, 9.69MB/s]\n",
      "  9%|8         | 42.0M/474M [00:05<00:49, 9.08MB/s]\n",
      "  9%|9         | 44.0M/474M [00:05<00:51, 8.82MB/s]\n",
      "  9%|9         | 45.0M/474M [00:05<00:49, 9.13MB/s]\n",
      " 10%|9         | 47.0M/474M [00:06<00:44, 10.1MB/s]\n",
      " 10%|#         | 49.0M/474M [00:06<00:41, 10.7MB/s]\n",
      " 11%|#         | 51.0M/474M [00:06<00:40, 11.0MB/s]\n",
      " 11%|#1        | 53.0M/474M [00:06<00:39, 11.3MB/s]\n",
      " 12%|#1        | 55.0M/474M [00:06<00:38, 11.4MB/s]\n",
      " 12%|#2        | 57.0M/474M [00:07<00:37, 11.6MB/s]\n",
      " 12%|#2        | 59.0M/474M [00:07<00:37, 11.6MB/s]\n",
      " 13%|#2        | 61.0M/474M [00:07<00:37, 11.7MB/s]\n",
      " 13%|#3        | 63.0M/474M [00:07<00:36, 11.7MB/s]\n",
      " 14%|#3        | 65.0M/474M [00:07<00:36, 11.8MB/s]\n",
      " 14%|#4        | 67.0M/474M [00:07<00:36, 11.8MB/s]\n",
      " 15%|#4        | 69.0M/474M [00:08<00:36, 11.8MB/s]\n",
      " 15%|#4        | 71.0M/474M [00:08<00:35, 11.8MB/s]\n",
      " 15%|#5        | 73.0M/474M [00:08<00:35, 11.8MB/s]\n",
      " 16%|#5        | 75.0M/474M [00:08<00:35, 11.8MB/s]\n",
      " 16%|#6        | 77.0M/474M [00:08<00:35, 11.8MB/s]\n",
      " 17%|#6        | 79.0M/474M [00:08<00:35, 11.8MB/s]\n",
      " 17%|#7        | 81.0M/474M [00:09<00:34, 11.8MB/s]\n",
      " 18%|#7        | 83.0M/474M [00:09<00:34, 11.8MB/s]\n",
      " 18%|#7        | 85.0M/474M [00:09<00:34, 11.7MB/s]\n",
      " 18%|#8        | 87.0M/474M [00:09<00:34, 11.7MB/s]\n",
      " 19%|#8        | 89.0M/474M [00:09<00:34, 11.7MB/s]\n",
      " 19%|#9        | 91.0M/474M [00:10<00:34, 11.7MB/s]\n",
      " 20%|#9        | 93.0M/474M [00:10<00:34, 11.7MB/s]\n",
      " 20%|##        | 95.0M/474M [00:10<00:33, 11.7MB/s]\n",
      " 20%|##        | 97.0M/474M [00:10<00:33, 11.6MB/s]\n",
      " 21%|##        | 99.0M/474M [00:10<00:33, 11.6MB/s]\n",
      " 21%|##1       | 101M/474M [00:10<00:33, 11.7MB/s] \n",
      " 22%|##1       | 103M/474M [00:11<00:33, 11.7MB/s]\n",
      " 22%|##2       | 105M/474M [00:11<00:33, 11.7MB/s]\n",
      " 23%|##2       | 107M/474M [00:11<00:32, 11.7MB/s]\n",
      " 23%|##2       | 109M/474M [00:11<00:32, 11.8MB/s]\n",
      " 23%|##3       | 111M/474M [00:11<00:32, 11.8MB/s]\n",
      " 24%|##3       | 113M/474M [00:12<00:32, 11.7MB/s]\n",
      " 24%|##4       | 115M/474M [00:12<00:32, 11.8MB/s]\n",
      " 25%|##4       | 117M/474M [00:12<00:33, 11.0MB/s]\n",
      " 25%|##5       | 119M/474M [00:12<00:31, 12.0MB/s]\n",
      " 26%|##5       | 121M/474M [00:12<00:31, 11.9MB/s]\n",
      " 26%|##5       | 123M/474M [00:12<00:30, 11.9MB/s]\n",
      " 26%|##6       | 125M/474M [00:13<00:30, 11.8MB/s]\n",
      " 27%|##6       | 127M/474M [00:13<00:30, 11.8MB/s]\n",
      " 27%|##7       | 129M/474M [00:13<00:30, 11.8MB/s]\n",
      " 28%|##7       | 131M/474M [00:13<00:30, 11.8MB/s]\n",
      " 28%|##8       | 133M/474M [00:13<00:30, 11.6MB/s]\n",
      " 28%|##8       | 135M/474M [00:14<00:32, 10.9MB/s]\n",
      " 29%|##8       | 137M/474M [00:14<00:29, 12.1MB/s]\n",
      " 29%|##9       | 139M/474M [00:14<00:29, 12.1MB/s]\n",
      " 30%|##9       | 141M/474M [00:14<00:35, 9.88MB/s]\n",
      " 30%|###       | 143M/474M [00:14<00:33, 10.4MB/s]\n",
      " 31%|###       | 145M/474M [00:14<00:31, 10.8MB/s]\n",
      " 31%|###1      | 147M/474M [00:15<00:30, 11.1MB/s]\n",
      " 31%|###1      | 149M/474M [00:15<00:30, 11.3MB/s]\n",
      " 32%|###1      | 151M/474M [00:15<00:29, 11.4MB/s]\n",
      " 32%|###2      | 153M/474M [00:15<00:29, 11.5MB/s]\n",
      " 33%|###2      | 155M/474M [00:15<00:31, 10.7MB/s]\n",
      " 33%|###3      | 157M/474M [00:16<00:27, 12.0MB/s]\n",
      " 34%|###3      | 159M/474M [00:16<00:27, 11.9MB/s]\n",
      " 34%|###3      | 161M/474M [00:16<00:27, 11.9MB/s]\n",
      " 34%|###4      | 163M/474M [00:16<00:27, 11.9MB/s]\n",
      " 35%|###4      | 165M/474M [00:16<00:27, 11.9MB/s]\n",
      " 35%|###5      | 167M/474M [00:16<00:27, 11.8MB/s]\n",
      " 36%|###5      | 169M/474M [00:17<00:27, 11.6MB/s]\n",
      " 36%|###6      | 171M/474M [00:17<00:26, 11.9MB/s]\n",
      " 36%|###6      | 173M/474M [00:17<00:26, 11.8MB/s]\n",
      " 37%|###6      | 175M/474M [00:17<00:26, 11.8MB/s]\n",
      " 37%|###7      | 177M/474M [00:17<00:29, 10.5MB/s]\n",
      " 38%|###7      | 179M/474M [00:18<00:25, 12.1MB/s]\n",
      " 38%|###8      | 181M/474M [00:18<00:25, 12.0MB/s]\n",
      " 39%|###8      | 183M/474M [00:18<00:25, 11.9MB/s]\n",
      " 39%|###9      | 185M/474M [00:18<00:25, 11.8MB/s]\n",
      " 39%|###9      | 187M/474M [00:18<00:25, 11.8MB/s]\n",
      " 40%|###9      | 189M/474M [00:18<00:25, 11.7MB/s]\n",
      " 40%|####      | 191M/474M [00:19<00:25, 11.7MB/s]\n",
      " 41%|####      | 193M/474M [00:19<00:25, 11.7MB/s]\n",
      " 41%|####1     | 195M/474M [00:19<00:25, 11.7MB/s]\n",
      " 42%|####1     | 197M/474M [00:19<00:24, 11.7MB/s]\n",
      " 42%|####1     | 199M/474M [00:19<00:24, 11.7MB/s]\n",
      " 42%|####2     | 201M/474M [00:19<00:24, 11.7MB/s]\n",
      " 43%|####2     | 203M/474M [00:20<00:24, 11.7MB/s]\n",
      " 43%|####3     | 205M/474M [00:20<00:24, 11.7MB/s]\n",
      " 44%|####3     | 207M/474M [00:20<00:23, 11.7MB/s]\n",
      " 44%|####4     | 209M/474M [00:20<00:23, 11.7MB/s]\n",
      " 45%|####4     | 211M/474M [00:20<00:23, 11.7MB/s]\n",
      " 45%|####4     | 213M/474M [00:21<00:23, 11.7MB/s]\n",
      " 45%|####5     | 215M/474M [00:21<00:23, 11.7MB/s]\n",
      " 46%|####5     | 217M/474M [00:21<00:22, 11.7MB/s]\n",
      " 46%|####6     | 219M/474M [00:21<00:22, 11.7MB/s]\n",
      " 47%|####6     | 221M/474M [00:21<00:22, 11.8MB/s]\n",
      " 47%|####7     | 223M/474M [00:22<00:24, 10.7MB/s]\n",
      " 47%|####7     | 225M/474M [00:22<00:23, 11.3MB/s]\n",
      " 48%|####7     | 227M/474M [00:22<00:21, 12.1MB/s]\n",
      " 48%|####8     | 229M/474M [00:22<00:21, 11.7MB/s]\n",
      " 49%|####8     | 231M/474M [00:22<00:22, 11.4MB/s]\n",
      " 49%|####9     | 233M/474M [00:22<00:22, 11.3MB/s]\n",
      " 50%|####9     | 235M/474M [00:23<00:22, 11.2MB/s]\n",
      " 50%|####9     | 237M/474M [00:23<00:22, 11.1MB/s]\n",
      " 50%|#####     | 239M/474M [00:23<00:22, 11.0MB/s]\n",
      " 51%|#####     | 241M/474M [00:23<00:22, 11.0MB/s]\n",
      " 51%|#####1    | 243M/474M [00:23<00:22, 11.0MB/s]\n",
      " 52%|#####1    | 245M/474M [00:24<00:21, 11.0MB/s]\n",
      " 52%|#####2    | 247M/474M [00:24<00:21, 10.9MB/s]\n",
      " 53%|#####2    | 249M/474M [00:24<00:21, 10.9MB/s]\n",
      " 53%|#####2    | 251M/474M [00:24<00:24, 9.39MB/s]\n",
      " 53%|#####3    | 253M/474M [00:24<00:21, 10.9MB/s]\n",
      " 54%|#####3    | 255M/474M [00:25<00:22, 10.3MB/s]\n",
      " 54%|#####4    | 257M/474M [00:25<00:23, 9.85MB/s]\n",
      " 55%|#####4    | 259M/474M [00:25<00:23, 9.49MB/s]\n",
      " 55%|#####4    | 260M/474M [00:25<00:23, 9.40MB/s]\n",
      " 55%|#####5    | 261M/474M [00:25<00:24, 9.30MB/s]\n",
      " 55%|#####5    | 262M/474M [00:25<00:24, 9.07MB/s]\n",
      " 55%|#####5    | 263M/474M [00:26<00:25, 8.77MB/s]\n",
      " 56%|#####5    | 264M/474M [00:26<00:24, 8.99MB/s]\n",
      " 56%|#####5    | 265M/474M [00:26<00:24, 9.05MB/s]\n",
      " 56%|#####6    | 266M/474M [00:26<00:25, 8.69MB/s]\n",
      " 56%|#####6    | 267M/474M [00:26<00:24, 8.92MB/s]\n",
      " 57%|#####6    | 268M/474M [00:26<00:24, 8.71MB/s]\n",
      " 57%|#####6    | 269M/474M [00:26<00:24, 8.81MB/s]\n",
      " 57%|#####6    | 270M/474M [00:26<00:25, 8.34MB/s]\n",
      " 57%|#####7    | 271M/474M [00:27<00:24, 8.62MB/s]\n",
      " 57%|#####7    | 272M/474M [00:27<00:25, 8.46MB/s]\n",
      " 58%|#####7    | 274M/474M [00:27<00:22, 9.46MB/s]\n",
      " 58%|#####8    | 275M/474M [00:27<00:22, 9.34MB/s]\n",
      " 58%|#####8    | 276M/474M [00:27<00:22, 9.43MB/s]\n",
      " 58%|#####8    | 277M/474M [00:27<00:22, 9.36MB/s]\n",
      " 59%|#####8    | 278M/474M [00:27<00:22, 9.31MB/s]\n",
      " 59%|#####8    | 279M/474M [00:27<00:25, 8.13MB/s]\n",
      " 59%|#####9    | 280M/474M [00:28<00:27, 7.36MB/s]\n",
      " 59%|#####9    | 281M/474M [00:28<00:25, 7.89MB/s]\n",
      " 59%|#####9    | 282M/474M [00:28<00:23, 8.48MB/s]\n",
      " 60%|#####9    | 284M/474M [00:28<00:21, 9.35MB/s]\n",
      " 60%|######    | 285M/474M [00:28<00:21, 9.20MB/s]\n",
      " 60%|######    | 286M/474M [00:28<00:22, 8.74MB/s]\n",
      " 61%|######    | 288M/474M [00:28<00:19, 9.84MB/s]\n",
      " 61%|######    | 289M/474M [00:29<00:19, 9.73MB/s]\n",
      " 61%|######1   | 290M/474M [00:29<00:20, 9.65MB/s]\n",
      " 61%|######1   | 291M/474M [00:29<00:20, 9.27MB/s]\n",
      " 62%|######1   | 292M/474M [00:29<00:20, 9.51MB/s]\n",
      " 62%|######1   | 293M/474M [00:29<00:19, 9.61MB/s]\n",
      " 62%|######2   | 294M/474M [00:29<00:19, 9.54MB/s]\n",
      " 62%|######2   | 295M/474M [00:29<00:19, 9.50MB/s]\n",
      " 62%|######2   | 296M/474M [00:29<00:20, 9.26MB/s]\n",
      " 63%|######2   | 297M/474M [00:29<00:19, 9.52MB/s]\n",
      " 63%|######2   | 298M/474M [00:30<00:19, 9.50MB/s]\n",
      " 63%|######3   | 299M/474M [00:30<00:19, 9.47MB/s]\n",
      " 63%|######3   | 300M/474M [00:30<00:19, 9.44MB/s]\n",
      " 63%|######3   | 301M/474M [00:30<00:19, 9.44MB/s]\n",
      " 64%|######3   | 302M/474M [00:30<00:19, 9.47MB/s]\n",
      " 64%|######4   | 304M/474M [00:30<00:23, 7.65MB/s]\n",
      " 65%|######4   | 307M/474M [00:30<00:14, 11.8MB/s]\n",
      " 65%|######5   | 309M/474M [00:31<00:15, 11.1MB/s]\n",
      " 66%|######5   | 311M/474M [00:31<00:14, 12.0MB/s]\n",
      " 66%|######6   | 313M/474M [00:31<00:14, 11.9MB/s]\n",
      " 66%|######6   | 315M/474M [00:31<00:14, 11.9MB/s]\n",
      " 67%|######6   | 317M/474M [00:31<00:13, 11.8MB/s]\n",
      " 67%|######7   | 319M/474M [00:32<00:13, 11.8MB/s]\n",
      " 68%|######7   | 321M/474M [00:32<00:13, 11.8MB/s]\n",
      " 68%|######8   | 323M/474M [00:32<00:13, 11.7MB/s]\n",
      " 69%|######8   | 325M/474M [00:32<00:13, 11.7MB/s]\n",
      " 69%|######8   | 327M/474M [00:32<00:13, 11.7MB/s]\n",
      " 69%|######9   | 329M/474M [00:32<00:12, 11.7MB/s]\n",
      " 70%|######9   | 331M/474M [00:33<00:12, 11.7MB/s]\n",
      " 70%|#######   | 333M/474M [00:33<00:12, 11.7MB/s]\n",
      " 71%|#######   | 335M/474M [00:33<00:12, 11.7MB/s]\n",
      " 71%|#######1  | 337M/474M [00:33<00:12, 11.7MB/s]\n",
      " 72%|#######1  | 339M/474M [00:33<00:12, 11.8MB/s]\n",
      " 72%|#######1  | 341M/474M [00:34<00:11, 11.7MB/s]\n",
      " 72%|#######2  | 343M/474M [00:34<00:12, 10.9MB/s]\n",
      " 73%|#######2  | 345M/474M [00:34<00:11, 12.0MB/s]\n",
      " 73%|#######3  | 347M/474M [00:34<00:11, 11.9MB/s]\n",
      " 74%|#######3  | 349M/474M [00:34<00:11, 11.9MB/s]\n",
      " 74%|#######4  | 351M/474M [00:34<00:10, 11.8MB/s]\n",
      " 74%|#######4  | 353M/474M [00:35<00:10, 11.8MB/s]\n",
      " 75%|#######4  | 355M/474M [00:35<00:10, 11.8MB/s]\n",
      " 75%|#######5  | 357M/474M [00:35<00:10, 11.8MB/s]\n",
      " 76%|#######5  | 359M/474M [00:35<00:10, 11.1MB/s]\n",
      " 76%|#######6  | 361M/474M [00:35<00:09, 11.9MB/s]\n",
      " 77%|#######6  | 363M/474M [00:36<00:09, 11.9MB/s]\n",
      " 77%|#######6  | 365M/474M [00:36<00:09, 11.9MB/s]\n",
      " 77%|#######7  | 367M/474M [00:36<00:09, 11.8MB/s]\n",
      " 78%|#######7  | 369M/474M [00:36<00:09, 11.8MB/s]\n",
      " 78%|#######8  | 371M/474M [00:36<00:09, 11.8MB/s]\n",
      " 79%|#######8  | 373M/474M [00:36<00:09, 11.8MB/s]\n",
      " 79%|#######9  | 375M/474M [00:37<00:09, 10.7MB/s]\n",
      " 80%|#######9  | 377M/474M [00:37<00:10, 9.96MB/s]\n",
      " 80%|#######9  | 379M/474M [00:37<00:09, 10.4MB/s]\n",
      " 80%|########  | 381M/474M [00:37<00:09, 10.8MB/s]\n",
      " 81%|########  | 383M/474M [00:37<00:08, 11.1MB/s]\n",
      " 81%|########1 | 385M/474M [00:38<00:08, 11.2MB/s]\n",
      " 82%|########1 | 387M/474M [00:38<00:08, 11.4MB/s]\n",
      " 82%|########2 | 389M/474M [00:38<00:07, 11.5MB/s]\n",
      " 82%|########2 | 391M/474M [00:38<00:07, 11.6MB/s]\n",
      " 83%|########2 | 393M/474M [00:38<00:07, 11.6MB/s]\n",
      " 83%|########3 | 395M/474M [00:38<00:07, 11.6MB/s]\n",
      " 84%|########3 | 397M/474M [00:39<00:06, 11.7MB/s]\n",
      " 84%|########4 | 399M/474M [00:39<00:06, 11.7MB/s]\n",
      " 85%|########4 | 401M/474M [00:39<00:06, 11.7MB/s]\n",
      " 85%|########5 | 403M/474M [00:39<00:06, 11.7MB/s]\n",
      " 85%|########5 | 405M/474M [00:39<00:06, 11.8MB/s]\n",
      " 86%|########5 | 407M/474M [00:40<00:05, 11.8MB/s]\n",
      " 86%|########6 | 409M/474M [00:40<00:05, 11.8MB/s]\n",
      " 87%|########6 | 411M/474M [00:40<00:05, 11.8MB/s]\n",
      " 87%|########7 | 413M/474M [00:40<00:05, 11.1MB/s]\n",
      " 88%|########7 | 415M/474M [00:40<00:05, 12.0MB/s]\n",
      " 88%|########7 | 417M/474M [00:40<00:05, 11.9MB/s]\n",
      " 88%|########8 | 419M/474M [00:41<00:04, 11.8MB/s]\n",
      " 89%|########8 | 421M/474M [00:41<00:04, 11.8MB/s]\n",
      " 89%|########9 | 423M/474M [00:41<00:04, 11.7MB/s]\n",
      " 90%|########9 | 425M/474M [00:41<00:04, 11.6MB/s]\n",
      " 90%|######### | 427M/474M [00:41<00:04, 11.8MB/s]\n",
      " 91%|######### | 429M/474M [00:42<00:04, 11.5MB/s]\n",
      " 91%|######### | 431M/474M [00:42<00:03, 11.9MB/s]\n",
      " 91%|#########1| 433M/474M [00:42<00:03, 10.9MB/s]\n",
      " 92%|#########1| 435M/474M [00:42<00:03, 11.8MB/s]\n",
      " 92%|#########2| 437M/474M [00:42<00:03, 9.98MB/s]\n",
      " 93%|#########2| 439M/474M [00:43<00:03, 10.5MB/s]\n",
      " 93%|#########3| 441M/474M [00:43<00:03, 10.8MB/s]\n",
      " 93%|#########3| 443M/474M [00:43<00:02, 11.1MB/s]\n",
      " 94%|#########3| 445M/474M [00:43<00:02, 10.9MB/s]\n",
      " 94%|#########4| 447M/474M [00:43<00:02, 9.77MB/s]\n",
      " 95%|#########4| 450M/474M [00:44<00:02, 11.7MB/s]\n",
      " 95%|#########5| 452M/474M [00:44<00:01, 11.7MB/s]\n",
      " 96%|#########5| 454M/474M [00:44<00:01, 11.8MB/s]\n",
      " 96%|#########6| 456M/474M [00:44<00:01, 11.8MB/s]\n",
      " 97%|#########6| 458M/474M [00:44<00:01, 11.8MB/s]\n",
      " 97%|#########7| 460M/474M [00:44<00:01, 11.8MB/s]\n",
      " 97%|#########7| 462M/474M [00:45<00:01, 9.25MB/s]\n",
      " 98%|#########8| 465M/474M [00:45<00:00, 12.7MB/s]\n",
      " 99%|#########8| 467M/474M [00:45<00:00, 10.6MB/s]\n",
      " 99%|#########9| 470M/474M [00:45<00:00, 12.8MB/s]\n",
      "100%|#########9| 472M/474M [00:45<00:00, 12.5MB/s]\n",
      "100%|#########9| 474M/474M [00:46<00:00, 12.3MB/s]\n",
      "100%|##########| 474M/474M [00:46<00:00, 10.8MB/s]\n"
     ]
    }
   ],
   "source": [
    "#kaggle 설치\n",
    "!pip install kaggle\n",
    "#kaggle에서 데이터셋 다운로드. kaggle.json 관련 오류가 난다면, https://freshrimpsushi.github.io/posts/how-to-fix-oserror-could-not-find-kaggle.json/ 참고\n",
    "!kaggle datasets download -d samuelcortinhas/muffin-vs-chihuahua-image-classification\n"
   ]
  },
  {
   "cell_type": "code",
   "execution_count": 14,
   "id": "966652d6",
   "metadata": {},
   "outputs": [],
   "source": [
    "#다운로드 한 이미지 압축파일 압축 해제\n",
    "import os\n",
    "import zipfile\n",
    "\n",
    "local_zip = 'muffin-vs-chihuahua-image-classification.zip'\n",
    "\n",
    "zip_ref = zipfile.ZipFile(local_zip, 'r')\n",
    "\n",
    "zip_ref.extractall('./tmp')\n",
    "zip_ref.close()\n"
   ]
  },
  {
   "cell_type": "code",
   "execution_count": 15,
   "id": "1a971bfa",
   "metadata": {},
   "outputs": [
    {
     "name": "stdout",
     "output_type": "stream",
     "text": [
      "Requirement already satisfied: torch in c:\\users\\ah\\miniconda3\\lib\\site-packages (1.13.0+cpu)\n",
      "Requirement already satisfied: typing-extensions in c:\\users\\ah\\miniconda3\\lib\\site-packages (from torch) (4.1.1)\n"
     ]
    }
   ],
   "source": [
    "!pip install torch"
   ]
  },
  {
   "cell_type": "code",
   "execution_count": 16,
   "id": "db73d85d",
   "metadata": {},
   "outputs": [
    {
     "name": "stdout",
     "output_type": "stream",
     "text": [
      "Requirement already satisfied: scikit-learn in c:\\users\\ah\\miniconda3\\lib\\site-packages (1.3.2)\n",
      "Requirement already satisfied: numpy<2.0,>=1.17.3 in c:\\users\\ah\\miniconda3\\lib\\site-packages (from scikit-learn) (1.26.1)\n",
      "Requirement already satisfied: threadpoolctl>=2.0.0 in c:\\users\\ah\\miniconda3\\lib\\site-packages (from scikit-learn) (3.2.0)\n",
      "Requirement already satisfied: joblib>=1.1.1 in c:\\users\\ah\\miniconda3\\lib\\site-packages (from scikit-learn) (1.3.2)\n",
      "Requirement already satisfied: scipy>=1.5.0 in c:\\users\\ah\\miniconda3\\lib\\site-packages (from scikit-learn) (1.11.3)\n"
     ]
    }
   ],
   "source": [
    "!pip install scikit-learn"
   ]
  },
  {
   "cell_type": "code",
   "execution_count": 42,
   "id": "1c8929af",
   "metadata": {},
   "outputs": [],
   "source": [
    "import torchvision\n",
    "import torchvision.transforms as transforms\n",
    "\n",
    "import matplotlib.pyplot as plt\n",
    "%matplotlib inline\n",
    "\n",
    "import torch\n",
    "import torch.nn as nn\n",
    "import torch.optim as optim\n",
    "from torch.utils.data import Dataset, DataLoader\n",
    "from torch.utils.data import random_split\n",
    "import torch.nn.init as init\n",
    "\n",
    "from PIL import Image\n",
    "import numpy as np"
   ]
  },
  {
   "cell_type": "code",
   "execution_count": 26,
   "id": "93062304",
   "metadata": {},
   "outputs": [],
   "source": [
    "lr = 0.001 # 학습률\n",
    "batch_size = 100 # 한번에 얼만큼의 이미지를 학습시킬지\n",
    "epochs = 10 # 데이터를 몇 번 반복하여 학습시킬지"
   ]
  },
  {
   "cell_type": "code",
   "execution_count": 27,
   "id": "e6eb1ef9",
   "metadata": {},
   "outputs": [
    {
     "name": "stdout",
     "output_type": "stream",
     "text": [
      "Length of Train Data : 3733\n",
      "Length of Validation Data : 1000\n",
      "3733 38\n",
      "1000 10\n"
     ]
    }
   ],
   "source": [
    "# 주어진 이미지 데이터를 일괄적으로 300 * 300 의 크기로 변환하고, 텐서로 변환할 수 있는 부분\n",
    "trans = transforms.Compose([transforms.Resize((300, 300)),\n",
    "                           transforms.ToTensor()\n",
    "                           ])\n",
    "\n",
    "# 각 이미지 폴더에 위치한 이미지들을 텐서로 가져옴\n",
    "train_dataset = torchvision.datasets.ImageFolder(root= './tmp/train',\n",
    "                                                     transform = trans)\n",
    "\n",
    "test_data = torchvision.datasets.ImageFolder(root= './tmp/test',\n",
    "                                                     transform = trans)\n",
    "\n",
    "# train 데이터 폴더의 사진을\n",
    "#train / validation 데이터의 랜덤한 두 가지 값으로 나뉘도록 함.\n",
    "val_size = 1000\n",
    "train_size = len(train_dataset) - val_size\n",
    "train_data,val_data = random_split(train_dataset,[train_size,val_size])\n",
    "print(f\"Length of Train Data : {len(train_data)}\")\n",
    "print(f\"Length of Validation Data : {len(val_data)}\")\n",
    "\n",
    "# 각 학습용 데이터들을 사전 정의한 batch_size 단위로 처리할 수 있도록 데이터 로드를 생성합니다.\n",
    "train_loader = DataLoader(dataset=train_data, #어디서\n",
    "                          batch_size=batch_size, #얼마나 뽑을지\n",
    "                          shuffle=True) #랜덤으로 추출\n",
    "val_loader = DataLoader(dataset=val_data,\n",
    "                          batch_size=batch_size,\n",
    "                          shuffle=True)\n",
    "\n",
    "test_loader = DataLoader(dataset=test_data,\n",
    "                         batch_size=batch_size,\n",
    "                         shuffle=False)\n",
    "\n",
    "print(len(train_data), len(train_loader))\n",
    "print(len(val_data), len(val_loader))"
   ]
  },
  {
   "cell_type": "markdown",
   "id": "26c6e1aa",
   "metadata": {},
   "source": [
    "## Model construction"
   ]
  },
  {
   "cell_type": "code",
   "execution_count": 43,
   "id": "da37618c",
   "metadata": {},
   "outputs": [],
   "source": [
    "class Cnn(nn.Module):\n",
    "    def __init__(self):\n",
    "        super(Cnn,self).__init__()\n",
    "\n",
    "        # 첫번째 레이어 정의\n",
    "        self.layer1 = nn.Sequential(\n",
    "            # 이미지를 입력값으로 받으므로, 최초 입력 채널의 크기는 3\n",
    "            #(채널갯수, 출력채널(임의 설정), 필터사이즈(임의 설정)) 출력채널은 output의 depth.\n",
    "            nn.Conv2d(3,16,kernel_size=3, padding=0,stride=2),\n",
    "            # BatchNorm2d를 이용하여 학습 시 사용되는 batch를 정규화\n",
    "            nn.BatchNorm2d(16),\n",
    "            # 활성화 함수\n",
    "            nn.ReLU(),\n",
    "            # 2x2 Max 풀링\n",
    "            nn.MaxPool2d(2)\n",
    "        )\n",
    "\n",
    "        # 두번째 레이어 정의\n",
    "        self.layer2 = nn.Sequential(\n",
    "            nn.Conv2d(16,32, kernel_size=3, padding=0, stride=2),\n",
    "            nn.BatchNorm2d(32),\n",
    "            nn.ReLU(),\n",
    "            nn.MaxPool2d(2)\n",
    "            )\n",
    "        \n",
    "        # 세번째 레이어 정의\n",
    "        self.layer3 = nn.Sequential(\n",
    "            nn.Conv2d(32,64, kernel_size=3, padding=0, stride=2),\n",
    "            nn.BatchNorm2d(64),\n",
    "            nn.ReLU(),\n",
    "            nn.MaxPool2d(2)\n",
    "        )\n",
    "        # Weight Initialization\n",
    "        for m in self.modules() :\n",
    "            if isinstance(m, nn.Conv2d):\n",
    "                # init.xavier_normal(m.weight.data)\n",
    "                init.kaiming_normal_(m.weight.data)\n",
    "                m.bias.data.fill_(0)      \n",
    "            if isinstance(m, nn.Linear):\n",
    "                # init.xavier_normal(m.weight.data)\n",
    "                init.kaiming_normal_(m.weight.data)\n",
    "                m.bias.data.fill_(0)  \n",
    "        \n",
    "        # MLP 레이어 정의\n",
    "        # 출력된 최종 레이어를 하나로 쭉 늘어뜨린 뒤, 10개의 출력층에 맵핑\n",
    "        #nn.Linear(마지막 출력 채널*(conv_layer 이후 출력크기)) -> conv이후 출력은 (N+2P-F)/S+1\n",
    "        self.fc1 = nn.Linear(1024,10)\n",
    "        # Dropout 레이어는 학습 중 일부 뉴런을 무작위로 비활성화하여 과적합을 방지\n",
    "        self.dropout = nn.Dropout(0.5)\n",
    "        # 위에서 10개로 줄어든 출력층을 최종 muffin/chihuahua 2개의 출력층으로 분류\n",
    "        self.fc2 = nn.Linear(10,2)\n",
    "        self.relu = nn.ReLU()\n",
    "\n",
    "    # 상단에서 정의해준 각각의 레이어를 실행시키는 순방향전파 기능을 정의합니다.\n",
    "    def forward(self,x):\n",
    "        out = self.layer1(x)\n",
    "        out = self.layer2(out)\n",
    "        out = self.layer3(out)\n",
    "        out = out.view(out.size(0),-1)\n",
    "        out = self.relu(self.fc1(out))\n",
    "        out = self.fc2(out)\n",
    "        return out"
   ]
  },
  {
   "cell_type": "code",
   "execution_count": 44,
   "id": "4f4fb6a3",
   "metadata": {},
   "outputs": [],
   "source": [
    "# 모델 생성 : 상단에서 정의한 모델 활용\n",
    "model = Cnn()\n",
    "# 모델 학습 모드 설정\n",
    "model.train()\n",
    "# 최적화 함수 설정 : Adam(Adaptive Moment Estimation)\n",
    "# Adam? : Pytorch에 구현되어있는 경사하강법의 변형 중 하나\n",
    "optimizer = optim.Adam(params = model.parameters(),lr=0.001)\n",
    "# 손실 함수는 CrossEntropy함수를 사용합니다.\n",
    "criterion = nn.CrossEntropyLoss()"
   ]
  },
  {
   "cell_type": "markdown",
   "id": "8bb92e4d",
   "metadata": {},
   "source": [
    "## Training and Validation"
   ]
  },
  {
   "cell_type": "code",
   "execution_count": 45,
   "id": "629e7dfc",
   "metadata": {},
   "outputs": [
    {
     "name": "stdout",
     "output_type": "stream",
     "text": [
      "Epoch : 1, train accuracy : 0.7936285138130188, train loss : 0.4579622447490692\n",
      "Epoch : 1, val_accuracy : 0.8379999995231628, val_loss : 0.36864298582077026\n",
      "Epoch : 2, train accuracy : 0.8760446310043335, train loss : 0.31177812814712524\n",
      "Epoch : 2, val_accuracy : 0.8790000081062317, val_loss : 0.2953033745288849\n",
      "Epoch : 3, train accuracy : 0.9012598395347595, train loss : 0.25062495470046997\n",
      "Epoch : 3, val_accuracy : 0.8859999775886536, val_loss : 0.2975468337535858\n",
      "Epoch : 4, train accuracy : 0.9157893061637878, train loss : 0.2165369689464569\n",
      "Epoch : 4, val_accuracy : 0.8890000581741333, val_loss : 0.278389573097229\n",
      "Epoch : 5, train accuracy : 0.9368258714675903, train loss : 0.17663362622261047\n",
      "Epoch : 5, val_accuracy : 0.8970000147819519, val_loss : 0.25509345531463623\n",
      "Epoch : 6, train accuracy : 0.9518421292304993, train loss : 0.14300206303596497\n",
      "Epoch : 6, val_accuracy : 0.9029999375343323, val_loss : 0.26532065868377686\n",
      "Epoch : 7, train accuracy : 0.961578905582428, train loss : 0.11996951699256897\n",
      "Epoch : 7, val_accuracy : 0.8980000019073486, val_loss : 0.25204023718833923\n",
      "Epoch : 8, train accuracy : 0.9699681401252747, train loss : 0.10014189779758453\n",
      "Epoch : 8, val_accuracy : 0.8949999809265137, val_loss : 0.2687726616859436\n",
      "Epoch : 9, train accuracy : 0.9623684883117676, train loss : 0.10890302807092667\n",
      "Epoch : 9, val_accuracy : 0.8949999809265137, val_loss : 0.26627951860427856\n",
      "Epoch : 10, train accuracy : 0.9657896161079407, train loss : 0.08968809992074966\n",
      "Epoch : 10, val_accuracy : 0.8980000019073486, val_loss : 0.29687535762786865\n"
     ]
    }
   ],
   "source": [
    "for epoch in range(epochs):\n",
    "    epoch_loss = 0\n",
    "    epoch_accuracy = 0\n",
    "    # 학습 데이터 로더 train_loader에서 batch 데이터를 가져옵니다.\n",
    "    for i, (batch_images, batch_labels) in enumerate(train_loader):\n",
    "        output = model(batch_images)\n",
    "        loss = criterion(output, batch_labels)\n",
    "\n",
    "        optimizer.zero_grad()   # 최적화 함수 가중치 초기화\n",
    "        loss.backward()         # 역전파 수행하여 가중치 계산하고, 모델의 파라미터를 업데이트\n",
    "        optimizer.step()        # 최적화 함수의 파라미터도 업데이트\n",
    "\n",
    "        acc = ((output.argmax(dim=1) == batch_labels).float().mean())   # 예측값의 정확도를 계산합니다.\n",
    "        epoch_accuracy += acc/len(train_loader)                         # 지금 수행중인 학습의 정확도와 손실을 누적합니다.\n",
    "        epoch_loss += loss/len(train_loader)\n",
    "\n",
    "    print('Epoch : {}, train accuracy : {}, train loss : {}'.format(epoch+1, epoch_accuracy,epoch_loss))\n",
    "\n",
    "\n",
    "    with torch.no_grad():       # validation data로 학습에 대한 검증을 수행합니다.\n",
    "        epoch_val_accuracy=0\n",
    "        epoch_val_loss =0\n",
    "        for data, label in val_loader:\n",
    "            val_output = model(data)\n",
    "            val_loss = criterion(val_output,label)\n",
    "\n",
    "\n",
    "            acc = ((val_output.argmax(dim=1) == label).float().mean())\n",
    "            epoch_val_accuracy += acc/ len(val_loader)\n",
    "            epoch_val_loss += val_loss/ len(val_loader)\n",
    "\n",
    "        print('Epoch : {}, val_accuracy : {}, val_loss : {}'.format(epoch+1, epoch_val_accuracy,epoch_val_loss))"
   ]
  },
  {
   "cell_type": "markdown",
   "id": "294c504b",
   "metadata": {},
   "source": [
    "## Performance"
   ]
  },
  {
   "cell_type": "code",
   "execution_count": 47,
   "id": "7074ba91",
   "metadata": {},
   "outputs": [
    {
     "name": "stdout",
     "output_type": "stream",
     "text": [
      "Accuracy of test images: 90.878378 %\n"
     ]
    },
    {
     "data": {
      "image/png": "[encoded data removed]",
      "text/plain": [
       "<Figure size 432x288 with 1 Axes>"
      ]
     },
     "metadata": {
      "needs_background": "light"
     },
     "output_type": "display_data"
    }
   ],
   "source": [
    "correct_CNN = 0\n",
    "total_CNN = 0\n",
    "\n",
    "for images, labels in test_loader:\n",
    "    images = images\n",
    "    outputs = model(images)\n",
    "\n",
    "    _, predicted = torch.max(outputs.data, 1)\n",
    "\n",
    "    total_CNN += labels.size(0)\n",
    "    correct_CNN += (predicted == labels).sum()\n",
    "\n",
    "print('Accuracy of test images: %f %%' % (100 * float(correct_CNN) / total_CNN))\n",
    "\n",
    "import random\n",
    "import matplotlib.pyplot as plt\n",
    "\n",
    "# 모델을 평가 모드로 설정\n",
    "model.eval()\n",
    "\n",
    "# 테스트 데이터셋에서 무작위 이미지 선택\n",
    "random_image_idx = random.randint(0, len(test_data) - 1)\n",
    "image, label = test_data[random_image_idx]\n",
    "\n",
    "# 순방향전파를 실행하여 예측 획득\n",
    "with torch.no_grad():\n",
    "    image = image.unsqueeze(0)\n",
    "    prediction = model(image)\n",
    "\n",
    "predicted_class = prediction.argmax().item()\n",
    "\n",
    "# 클래스 레이블 목록 정의 (데이터셋에 따라 사용자 정의 가능)\n",
    "class_labels =['chihuahua', 'muffin']\n",
    "\n",
    "# 이미지와 예측을 표시\n",
    "plt.imshow(image.squeeze(0).cpu().permute(1, 2, 0))\n",
    "plt.title(f'Actual: {class_labels[label]}, Predicted: {class_labels[predicted_class]}')\n",
    "plt.show()\n"
   ]
  },
  {
   "cell_type": "markdown",
   "id": "403fc396",
   "metadata": {},
   "source": [
    "**weight initialization으로는 performance 향상 실패**"
   ]
  },
  {
   "cell_type": "markdown",
   "id": "1c7a123b",
   "metadata": {},
   "source": [
    "## Transfer Learning - VGG16"
   ]
  },
  {
   "cell_type": "markdown",
   "id": "f97a370d",
   "metadata": {},
   "source": [
    "### Load Data"
   ]
  },
  {
   "cell_type": "code",
   "execution_count": 48,
   "id": "773c69cd",
   "metadata": {},
   "outputs": [],
   "source": [
    "# 주어진 이미지 데이터를 pre-trained model과 같은 크기로 표준화\n",
    "#텐서로 변환\n",
    "train_transform = transforms.Compose([\n",
    "    transforms.RandomResizedCrop(224),\n",
    "    transforms.RandomHorizontalFlip(),\n",
    "    transforms.ToTensor(), # ToTensor : [0, 255] -> [0, 1]\n",
    "    transforms.Normalize(mean=[0.485, 0.456, 0.406],\n",
    "                         std=[0.229, 0.224, 0.225])\n",
    "])\n",
    "\n",
    "test_transform = transforms.Compose([\n",
    "    transforms.Resize((224, 224)),\n",
    "    transforms.ToTensor(), # ToTensor : [0, 255] -> [0, 1]\n",
    "    transforms.Normalize(mean=[0.485, 0.456, 0.406],\n",
    "                         std=[0.229, 0.224, 0.225])\n",
    "])"
   ]
  },
  {
   "cell_type": "code",
   "execution_count": 49,
   "id": "ca43991b",
   "metadata": {},
   "outputs": [
    {
     "name": "stdout",
     "output_type": "stream",
     "text": [
      "Length of Train Data : 3733\n",
      "Length of Validation Data : 1000\n",
      "3733 38\n",
      "1000 10\n"
     ]
    }
   ],
   "source": [
    "# 각 이미지 폴더에 위치한 이미지들을 텐서로 가져옴\n",
    "train_dataset = torchvision.datasets.ImageFolder(root= './tmp/train',\n",
    "                                                     transform = train_transform)\n",
    "\n",
    "test_data = torchvision.datasets.ImageFolder(root= './tmp/test',\n",
    "                                                     transform = test_transform)\n",
    "\n",
    "# train 데이터 폴더의 사진을\n",
    "#train / validation 데이터의 랜덤한 두 가지 값으로 나뉘도록 함.\n",
    "val_size = 1000\n",
    "train_size = len(train_dataset) - val_size\n",
    "train_data,val_data = random_split(train_dataset,[train_size,val_size])\n",
    "print(f\"Length of Train Data : {len(train_data)}\")\n",
    "print(f\"Length of Validation Data : {len(val_data)}\")\n",
    "\n",
    "# 각 학습용 데이터들을 사전 정의한 batch_size 단위로 처리할 수 있도록 데이터 로드를 생성합니다.\n",
    "train_loader = DataLoader(dataset=train_data, #어디서\n",
    "                          batch_size=batch_size, #얼마나 뽑을지\n",
    "                          shuffle=True) #랜덤으로 추출\n",
    "val_loader = DataLoader(dataset=val_data,\n",
    "                          batch_size=batch_size,\n",
    "                          shuffle=True)\n",
    "\n",
    "test_loader = DataLoader(dataset=test_data,\n",
    "                         batch_size=batch_size,\n",
    "                         shuffle=False)\n",
    "\n",
    "print(len(train_data), len(train_loader))\n",
    "print(len(val_data), len(val_loader))"
   ]
  },
  {
   "cell_type": "markdown",
   "id": "cbe110c8",
   "metadata": {},
   "source": [
    "### Setting model"
   ]
  },
  {
   "cell_type": "code",
   "execution_count": 50,
   "id": "c4a42309",
   "metadata": {},
   "outputs": [
    {
     "name": "stderr",
     "output_type": "stream",
     "text": [
      "C:\\Users\\AH\\miniconda3\\lib\\site-packages\\torchvision\\models\\_utils.py:208: UserWarning: The parameter 'pretrained' is deprecated since 0.13 and may be removed in the future, please use 'weights' instead.\n",
      "  warnings.warn(\n",
      "C:\\Users\\AH\\miniconda3\\lib\\site-packages\\torchvision\\models\\_utils.py:223: UserWarning: Arguments other than a weight enum or `None` for 'weights' are deprecated since 0.13 and may be removed in the future. The current behavior is equivalent to passing `weights=VGG16_Weights.IMAGENET1K_V1`. You can also use `weights=VGG16_Weights.DEFAULT` to get the most up-to-date weights.\n",
      "  warnings.warn(msg)\n"
     ]
    }
   ],
   "source": [
    "batch_size = 128\n",
    "model = torchvision.models.vgg16(pretrained=True)\n",
    "for parameter in model.parameters():\n",
    "    parameter.requires_grad = False\n",
    "model.classifier[-1] = nn.Linear(in_features=4096, out_features=2, bias=True)\n",
    "loss = nn.CrossEntropyLoss()\n",
    "optimizer = optim.Adam(model.parameters(), lr=0.0001)\n",
    "num_epochs = 10"
   ]
  },
  {
   "cell_type": "markdown",
   "id": "dd6f3825",
   "metadata": {},
   "source": [
    "### Train Model"
   ]
  },
  {
   "cell_type": "code",
   "execution_count": 53,
   "id": "57935525",
   "metadata": {},
   "outputs": [],
   "source": [
    "model.train()\n",
    "\n",
    "for epoch in range(num_epochs):\n",
    "\n",
    "    total_batch = len(train_data) // batch_size\n",
    "    \n",
    "    for i, (batch_images, batch_labels) in enumerate(train_loader):\n",
    "        \n",
    "        X = batch_images\n",
    "        Y = batch_labels\n",
    "\n",
    "        pre = model(X)\n",
    "        cost = loss(pre, Y)\n",
    "\n",
    "        optimizer.zero_grad()\n",
    "        cost.backward()\n",
    "        optimizer.step()\n",
    "\n",
    "        if (i+1) % 200 == 0:\n",
    "            print('Epoch [%d/%d], lter [%d/%d], Loss: %.4f'\n",
    "                 %(epoch+1, num_epochs, i+1, total_batch, cost.item()))"
   ]
  },
  {
   "cell_type": "markdown",
   "id": "4c6ccfc2",
   "metadata": {},
   "source": [
    "### Evaluate Model"
   ]
  },
  {
   "cell_type": "code",
   "execution_count": 56,
   "id": "95202a0c",
   "metadata": {},
   "outputs": [
    {
     "name": "stdout",
     "output_type": "stream",
     "text": [
      "Accuracy of test images: 99.408784 %\n"
     ]
    }
   ],
   "source": [
    "model.eval()\n",
    "correct = 0\n",
    "total = 0\n",
    "\n",
    "for images, labels in test_loader:\n",
    "    \n",
    "    images = images\n",
    "    outputs = model(images)\n",
    "    \n",
    "    _, predicted = torch.max(outputs.data, 1)\n",
    "    \n",
    "    total += labels.size(0)\n",
    "    correct += (predicted == labels).sum()\n",
    "    \n",
    "print('Accuracy of test images: %f %%' % (100 * float(correct) / total))"
   ]
  },
  {
   "cell_type": "markdown",
   "id": "f79c876e",
   "metadata": {},
   "source": [
    "**VGG16을 통해 성능 향상 성공**"
   ]
  },
  {
   "cell_type": "markdown",
   "id": "42c1b693",
   "metadata": {},
   "source": [
    "## Transfer Learning - Resnet18"
   ]
  },
  {
   "cell_type": "markdown",
   "id": "e689fa32",
   "metadata": {},
   "source": [
    "### Setting Model"
   ]
  },
  {
   "cell_type": "code",
   "execution_count": 65,
   "id": "34810a5f",
   "metadata": {},
   "outputs": [
    {
     "name": "stdout",
     "output_type": "stream",
     "text": [
      "ResNet(\n",
      "  (conv1): Conv2d(3, 64, kernel_size=(7, 7), stride=(2, 2), padding=(3, 3), bias=False)\n",
      "  (bn1): BatchNorm2d(64, eps=1e-05, momentum=0.1, affine=True, track_running_stats=True)\n",
      "  (relu): ReLU(inplace=True)\n",
      "  (maxpool): MaxPool2d(kernel_size=3, stride=2, padding=1, dilation=1, ceil_mode=False)\n",
      "  (layer1): Sequential(\n",
      "    (0): BasicBlock(\n",
      "      (conv1): Conv2d(64, 64, kernel_size=(3, 3), stride=(1, 1), padding=(1, 1), bias=False)\n",
      "      (bn1): BatchNorm2d(64, eps=1e-05, momentum=0.1, affine=True, track_running_stats=True)\n",
      "      (relu): ReLU(inplace=True)\n",
      "      (conv2): Conv2d(64, 64, kernel_size=(3, 3), stride=(1, 1), padding=(1, 1), bias=False)\n",
      "      (bn2): BatchNorm2d(64, eps=1e-05, momentum=0.1, affine=True, track_running_stats=True)\n",
      "    )\n",
      "    (1): BasicBlock(\n",
      "      (conv1): Conv2d(64, 64, kernel_size=(3, 3), stride=(1, 1), padding=(1, 1), bias=False)\n",
      "      (bn1): BatchNorm2d(64, eps=1e-05, momentum=0.1, affine=True, track_running_stats=True)\n",
      "      (relu): ReLU(inplace=True)\n",
      "      (conv2): Conv2d(64, 64, kernel_size=(3, 3), stride=(1, 1), padding=(1, 1), bias=False)\n",
      "      (bn2): BatchNorm2d(64, eps=1e-05, momentum=0.1, affine=True, track_running_stats=True)\n",
      "    )\n",
      "  )\n",
      "  (layer2): Sequential(\n",
      "    (0): BasicBlock(\n",
      "      (conv1): Conv2d(64, 128, kernel_size=(3, 3), stride=(2, 2), padding=(1, 1), bias=False)\n",
      "      (bn1): BatchNorm2d(128, eps=1e-05, momentum=0.1, affine=True, track_running_stats=True)\n",
      "      (relu): ReLU(inplace=True)\n",
      "      (conv2): Conv2d(128, 128, kernel_size=(3, 3), stride=(1, 1), padding=(1, 1), bias=False)\n",
      "      (bn2): BatchNorm2d(128, eps=1e-05, momentum=0.1, affine=True, track_running_stats=True)\n",
      "      (downsample): Sequential(\n",
      "        (0): Conv2d(64, 128, kernel_size=(1, 1), stride=(2, 2), bias=False)\n",
      "        (1): BatchNorm2d(128, eps=1e-05, momentum=0.1, affine=True, track_running_stats=True)\n",
      "      )\n",
      "    )\n",
      "    (1): BasicBlock(\n",
      "      (conv1): Conv2d(128, 128, kernel_size=(3, 3), stride=(1, 1), padding=(1, 1), bias=False)\n",
      "      (bn1): BatchNorm2d(128, eps=1e-05, momentum=0.1, affine=True, track_running_stats=True)\n",
      "      (relu): ReLU(inplace=True)\n",
      "      (conv2): Conv2d(128, 128, kernel_size=(3, 3), stride=(1, 1), padding=(1, 1), bias=False)\n",
      "      (bn2): BatchNorm2d(128, eps=1e-05, momentum=0.1, affine=True, track_running_stats=True)\n",
      "    )\n",
      "  )\n",
      "  (layer3): Sequential(\n",
      "    (0): BasicBlock(\n",
      "      (conv1): Conv2d(128, 256, kernel_size=(3, 3), stride=(2, 2), padding=(1, 1), bias=False)\n",
      "      (bn1): BatchNorm2d(256, eps=1e-05, momentum=0.1, affine=True, track_running_stats=True)\n",
      "      (relu): ReLU(inplace=True)\n",
      "      (conv2): Conv2d(256, 256, kernel_size=(3, 3), stride=(1, 1), padding=(1, 1), bias=False)\n",
      "      (bn2): BatchNorm2d(256, eps=1e-05, momentum=0.1, affine=True, track_running_stats=True)\n",
      "      (downsample): Sequential(\n",
      "        (0): Conv2d(128, 256, kernel_size=(1, 1), stride=(2, 2), bias=False)\n",
      "        (1): BatchNorm2d(256, eps=1e-05, momentum=0.1, affine=True, track_running_stats=True)\n",
      "      )\n",
      "    )\n",
      "    (1): BasicBlock(\n",
      "      (conv1): Conv2d(256, 256, kernel_size=(3, 3), stride=(1, 1), padding=(1, 1), bias=False)\n",
      "      (bn1): BatchNorm2d(256, eps=1e-05, momentum=0.1, affine=True, track_running_stats=True)\n",
      "      (relu): ReLU(inplace=True)\n",
      "      (conv2): Conv2d(256, 256, kernel_size=(3, 3), stride=(1, 1), padding=(1, 1), bias=False)\n",
      "      (bn2): BatchNorm2d(256, eps=1e-05, momentum=0.1, affine=True, track_running_stats=True)\n",
      "    )\n",
      "  )\n",
      "  (layer4): Sequential(\n",
      "    (0): BasicBlock(\n",
      "      (conv1): Conv2d(256, 512, kernel_size=(3, 3), stride=(2, 2), padding=(1, 1), bias=False)\n",
      "      (bn1): BatchNorm2d(512, eps=1e-05, momentum=0.1, affine=True, track_running_stats=True)\n",
      "      (relu): ReLU(inplace=True)\n",
      "      (conv2): Conv2d(512, 512, kernel_size=(3, 3), stride=(1, 1), padding=(1, 1), bias=False)\n",
      "      (bn2): BatchNorm2d(512, eps=1e-05, momentum=0.1, affine=True, track_running_stats=True)\n",
      "      (downsample): Sequential(\n",
      "        (0): Conv2d(256, 512, kernel_size=(1, 1), stride=(2, 2), bias=False)\n",
      "        (1): BatchNorm2d(512, eps=1e-05, momentum=0.1, affine=True, track_running_stats=True)\n",
      "      )\n",
      "    )\n",
      "    (1): BasicBlock(\n",
      "      (conv1): Conv2d(512, 512, kernel_size=(3, 3), stride=(1, 1), padding=(1, 1), bias=False)\n",
      "      (bn1): BatchNorm2d(512, eps=1e-05, momentum=0.1, affine=True, track_running_stats=True)\n",
      "      (relu): ReLU(inplace=True)\n",
      "      (conv2): Conv2d(512, 512, kernel_size=(3, 3), stride=(1, 1), padding=(1, 1), bias=False)\n",
      "      (bn2): BatchNorm2d(512, eps=1e-05, momentum=0.1, affine=True, track_running_stats=True)\n",
      "    )\n",
      "  )\n",
      "  (avgpool): AdaptiveAvgPool2d(output_size=(1, 1))\n",
      "  (fc): Linear(in_features=512, out_features=2, bias=True)\n",
      ")\n"
     ]
    }
   ],
   "source": [
    "batch_size = 128\n",
    "model = torchvision.models.resnet18(pretrained=True)\n",
    "for parameter in model.parameters():\n",
    "    parameter.requires_grad = False\n",
    "\n",
    "\n",
    "model.fc = nn.Linear(in_features=512, out_features=2, bias=True)\n",
    "loss = nn.CrossEntropyLoss()\n",
    "optimizer = optim.Adam(model.parameters(), lr=0.0001)\n",
    "num_epochs = 10\n"
   ]
  },
  {
   "cell_type": "markdown",
   "id": "ae969b6b",
   "metadata": {},
   "source": [
    "### Train Model"
   ]
  },
  {
   "cell_type": "code",
   "execution_count": 66,
   "id": "6a8091c0",
   "metadata": {},
   "outputs": [],
   "source": [
    "model.train()\n",
    "\n",
    "for epoch in range(num_epochs):\n",
    "\n",
    "    total_batch = len(train_data) // batch_size\n",
    "    \n",
    "    for i, (batch_images, batch_labels) in enumerate(train_loader):\n",
    "        \n",
    "        X = batch_images\n",
    "        Y = batch_labels\n",
    "\n",
    "        pre = model(X)\n",
    "        cost = loss(pre, Y)\n",
    "\n",
    "        optimizer.zero_grad()\n",
    "        cost.backward()\n",
    "        optimizer.step()\n",
    "\n",
    "        if (i+1) % 50 == 0:\n",
    "            print('Epoch [%d/%d], lter [%d/%d], Loss: %.4f'\n",
    "                 %(epoch+1, num_epochs, i+1, total_batch, cost.item()))"
   ]
  },
  {
   "cell_type": "markdown",
   "id": "c75376db",
   "metadata": {},
   "source": [
    "### Evaluate Model"
   ]
  },
  {
   "cell_type": "code",
   "execution_count": 67,
   "id": "3723ae4d",
   "metadata": {},
   "outputs": [
    {
     "name": "stdout",
     "output_type": "stream",
     "text": [
      "Accuracy of test images: 98.310811 %\n"
     ]
    }
   ],
   "source": [
    "model.eval()\n",
    "correct = 0\n",
    "total = 0\n",
    "\n",
    "for images, labels in test_loader:\n",
    "    \n",
    "    images = images\n",
    "    outputs = model(images)\n",
    "    \n",
    "    _, predicted = torch.max(outputs.data, 1)\n",
    "    \n",
    "    total += labels.size(0)\n",
    "    correct += (predicted == labels).sum()\n",
    "    \n",
    "print('Accuracy of test images: %f %%' % (100 * float(correct) / total))"
   ]
  },
  {
   "cell_type": "markdown",
   "id": "aa317534",
   "metadata": {},
   "source": [
    "**Resnet을 사용해 성능향상 성공**"
   ]
  },
  {
   "cell_type": "markdown",
   "id": "d130f388",
   "metadata": {},
   "source": [
    "## Transfer learning - Alexnet"
   ]
  },
  {
   "cell_type": "markdown",
   "id": "d125cd34",
   "metadata": {},
   "source": [
    "### Data Load"
   ]
  },
  {
   "cell_type": "code",
   "execution_count": 73,
   "id": "ebf1029f",
   "metadata": {},
   "outputs": [],
   "source": [
    "# 주어진 이미지 데이터를 pre-trained model과 같은 크기로 표준화\n",
    "#텐서로 변환\n",
    "train_transform = transforms.Compose([\n",
    "    transforms.RandomResizedCrop(224),\n",
    "    transforms.RandomHorizontalFlip(),\n",
    "    transforms.ToTensor(), # ToTensor : [0, 255] -> [0, 1]\n",
    "    transforms.Normalize(mean=[0.485, 0.456, 0.406],\n",
    "                         std=[0.229, 0.224, 0.225])\n",
    "])\n",
    "\n",
    "test_transform = transforms.Compose([\n",
    "    transforms.Resize((224, 224)),\n",
    "    transforms.ToTensor(), # ToTensor : [0, 255] -> [0, 1]\n",
    "    transforms.Normalize(mean=[0.485, 0.456, 0.406],\n",
    "                         std=[0.229, 0.224, 0.225])\n",
    "])"
   ]
  },
  {
   "cell_type": "code",
   "execution_count": 74,
   "id": "b842be18",
   "metadata": {},
   "outputs": [
    {
     "name": "stdout",
     "output_type": "stream",
     "text": [
      "Length of Train Data : 3733\n",
      "Length of Validation Data : 1000\n",
      "3733 30\n",
      "1000 8\n"
     ]
    }
   ],
   "source": [
    "# 각 이미지 폴더에 위치한 이미지들을 텐서로 가져옴\n",
    "train_dataset = torchvision.datasets.ImageFolder(root= './tmp/train',\n",
    "                                                     transform = train_transform)\n",
    "\n",
    "test_data = torchvision.datasets.ImageFolder(root= './tmp/test',\n",
    "                                                     transform = test_transform)\n",
    "\n",
    "# train 데이터 폴더의 사진을\n",
    "#train / validation 데이터의 랜덤한 두 가지 값으로 나뉘도록 함.\n",
    "val_size = 1000\n",
    "train_size = len(train_dataset) - val_size\n",
    "train_data,val_data = random_split(train_dataset,[train_size,val_size])\n",
    "print(f\"Length of Train Data : {len(train_data)}\")\n",
    "print(f\"Length of Validation Data : {len(val_data)}\")\n",
    "\n",
    "# 각 학습용 데이터들을 사전 정의한 batch_size 단위로 처리할 수 있도록 데이터 로드를 생성합니다.\n",
    "train_loader = DataLoader(dataset=train_data, #어디서\n",
    "                          batch_size=batch_size, #얼마나 뽑을지\n",
    "                          shuffle=True) #랜덤으로 추출\n",
    "val_loader = DataLoader(dataset=val_data,\n",
    "                          batch_size=batch_size,\n",
    "                          shuffle=True)\n",
    "\n",
    "test_loader = DataLoader(dataset=test_data,\n",
    "                         batch_size=batch_size,\n",
    "                         shuffle=False)\n",
    "\n",
    "print(len(train_data), len(train_loader))\n",
    "print(len(val_data), len(val_loader))"
   ]
  },
  {
   "cell_type": "markdown",
   "id": "412d3535",
   "metadata": {},
   "source": [
    "### Setting Model"
   ]
  },
  {
   "cell_type": "code",
   "execution_count": 77,
   "id": "b46db6e0",
   "metadata": {},
   "outputs": [
    {
     "name": "stdout",
     "output_type": "stream",
     "text": [
      "Sequential(\n",
      "  (0): Dropout(p=0.5, inplace=False)\n",
      "  (1): Linear(in_features=9216, out_features=4096, bias=True)\n",
      "  (2): ReLU(inplace=True)\n",
      "  (3): Dropout(p=0.5, inplace=False)\n",
      "  (4): Linear(in_features=4096, out_features=4096, bias=True)\n",
      "  (5): ReLU(inplace=True)\n",
      "  (6): Linear(in_features=4096, out_features=2, bias=True)\n",
      ")\n"
     ]
    }
   ],
   "source": [
    "batch_size = 128\n",
    "model = torchvision.models.alexnet(pretrained=True)\n",
    "for parameter in model.parameters():\n",
    "    parameter.requires_grad = False\n",
    "model.classifier[-1] = nn.Linear(in_features=4096, out_features=2, bias=True)\n",
    "loss = nn.CrossEntropyLoss()\n",
    "optimizer = optim.Adam(model.parameters(), lr=0.0001)\n",
    "num_epochs = 10\n",
    "print(model.classifier)"
   ]
  },
  {
   "cell_type": "markdown",
   "id": "40b884e7",
   "metadata": {},
   "source": [
    "### Train Model"
   ]
  },
  {
   "cell_type": "code",
   "execution_count": 78,
   "id": "1484db90",
   "metadata": {},
   "outputs": [],
   "source": [
    "model.train()\n",
    "\n",
    "for epoch in range(num_epochs):\n",
    "\n",
    "    total_batch = len(train_data) // batch_size\n",
    "    \n",
    "    for i, (batch_images, batch_labels) in enumerate(train_loader):\n",
    "        \n",
    "        X = batch_images\n",
    "        Y = batch_labels\n",
    "\n",
    "        pre = model(X)\n",
    "        cost = loss(pre, Y)\n",
    "\n",
    "        optimizer.zero_grad()\n",
    "        cost.backward()\n",
    "        optimizer.step()\n",
    "\n",
    "        if (i+1) % 50 == 0:\n",
    "            print('Epoch [%d/%d], lter [%d/%d], Loss: %.4f'\n",
    "                 %(epoch+1, num_epochs, i+1, total_batch, cost.item()))"
   ]
  },
  {
   "cell_type": "markdown",
   "id": "61693651",
   "metadata": {},
   "source": [
    "### Evaluate Model"
   ]
  },
  {
   "cell_type": "code",
   "execution_count": 79,
   "id": "02f3b977",
   "metadata": {},
   "outputs": [
    {
     "name": "stdout",
     "output_type": "stream",
     "text": [
      "Accuracy of test images: 97.972973 %\n"
     ]
    }
   ],
   "source": [
    "model.eval()\n",
    "correct = 0\n",
    "total = 0\n",
    "\n",
    "for images, labels in test_loader:\n",
    "    \n",
    "    images = images\n",
    "    outputs = model(images)\n",
    "    \n",
    "    _, predicted = torch.max(outputs.data, 1)\n",
    "    \n",
    "    total += labels.size(0)\n",
    "    correct += (predicted == labels).sum()\n",
    "    \n",
    "print('Accuracy of test images: %f %%' % (100 * float(correct) / total))"
   ]
  },
  {
   "cell_type": "markdown",
   "id": "eedb032b",
   "metadata": {},
   "source": [
    "**Alexnet을 통해 성능향상 성공**"
   ]
  },
  {
   "cell_type": "markdown",
   "id": "456061dc",
   "metadata": {},
   "source": [
    "## Result"
   ]
  },
  {
   "cell_type": "markdown",
   "id": "afa2652e",
   "metadata": {},
   "source": [
    "The results explains\n",
    "\n",
    "Midterm project와 같은 CNN에서 weight initialization을 사용한 경우 성능 향상에 실패하였으나, transfer learning 중 freeze를 사용한 경우 pretrained model에 상관 없이 성능 향상에 성공한 결과를 보임."
   ]
  },
  {
   "cell_type": "code",
   "execution_count": null,
   "id": "b863e431",
   "metadata": {},
   "outputs": [],
   "source": []
  }
 ],
 "metadata": {
  "kernelspec": {
   "display_name": "Python 3 (ipykernel)",
   "language": "python",
   "name": "python3"
  },
  "language_info": {
   "codemirror_mode": {
    "name": "ipython",
    "version": 3
   },
   "file_extension": ".py",
   "mimetype": "text/x-python",
   "name": "python",
   "nbconvert_exporter": "python",
   "pygments_lexer": "ipython3",
   "version": "3.9.12"
  }
 },
 "nbformat": 4,
 "nbformat_minor": 5
}
